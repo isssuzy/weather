from pyspark.sql import SparkSession
from pyspark.sql.types import StructType, StructField, StringType, FloatType, DateType
from pyspark.sql.functions import col, to_date, mean, month, year, when


# создаем спарк сессию
spark = SparkSession.builder.appName('Weather predict').getOrCreate()

# создаем схему для нашего файла
schema = StructType([
    StructField('station_id', StringType(), True),
    StructField('date', DateType(), True),
    StructField('temperature', FloatType(), True),
    StructField('precipitation', FloatType(), True),
    StructField('wind_speed', FloatType(), True)
])

# читаем csv файл
dataDf = spark.read.csv('weather_data.csv', header=True, schema=schema)

# преобразуем стобец date в формат даты
#dataDf =  dataDf.withColumn("date", to_date(col("date"), "yyyy-MM-dd"))

# заполняем NULL(пустые значения) средними показателями:
# 1) находим средние значения для каждой станции
mean_temp = dataDf.groupBy("station_id").agg(mean("temperature").alias("mean_temp"))
mean_precip = dataDf.groupBy("station_id").agg(mean("precipitation").alias("mean_precip"))
mean_wind = dataDf.groupBy("station_id").agg(mean("wind_speed").alias("mean_wind"))

# 2) делаем джойны для зополнения пустых полей
dataDf = dataDf.join(mean_temp, on='station_id', how='left')
dataDf = dataDf.join(mean_precip, on='station_id', how='left')
dataDf = dataDf.join(mean_wind, on='station_id', how='left')

# 3) пустые строки заполняем значениями из наших джойнов
dataDf = dataDf.withColumn("temperature", when(col("temperature").isNull(), col("mean_temp")).otherwise(col("temperature")))
dataDf = dataDf.withColumn("precipitation", when(col("precipitation").isNull(), col("mean_precip")).otherwise(col("precipitation")))
dataDf = dataDf.withColumn('wind_speed', when(col('wind_speed').isNull(), col('mean_wind')).otherwise(col('wind_speed')))
# 4) удаляем наши столбцы со средними значениями
dataDf = dataDf.drop('mean_temp', 'mean_precip', 'mean_wind')

# находим топ 5 жарких дней
hottest_days = dataDf.orderBy(col('temperature').desc()).select('date', 'temperature').limit(5)
hottest_days.show()

# станция по с max осадками за год
last_year = dataDf.filter(year("date") == 2023)
precip_last_year = last_year.groupBy('station_id').sum('precipitation').orderBy(col('sum(precipitation)').desc()).limit(1)
precip_last_year.show()

# средняя темп по месяцам за все время наблюдений
avg_temp = dataDf.withColumn('month', month('date')).groupBy('month').avg('temperature').orderBy('month')
avg_temp.show()
